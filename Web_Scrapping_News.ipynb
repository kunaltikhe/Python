{
  "nbformat": 4,
  "nbformat_minor": 0,
  "metadata": {
    "colab": {
      "provenance": []
    },
    "kernelspec": {
      "name": "python3",
      "display_name": "Python 3"
    },
    "language_info": {
      "name": "python"
    }
  },
  "cells": [
    {
      "cell_type": "code",
      "execution_count": 2,
      "metadata": {
        "id": "zW-OhpzRxL7p"
      },
      "outputs": [],
      "source": [
        "import requests as res\n",
        "from bs4 import BeautifulSoup as bs\n",
        "import pandas as pd\n"
      ]
    },
    {
      "cell_type": "code",
      "source": [
        "# https://www.maharashtrasamachar.com/national/?page=1\n",
        "# national\n",
        "# business\n",
        "# world\n",
        "# sports\n",
        "# entertainment\n",
        "# lifestyle"
      ],
      "metadata": {
        "id": "4rkN9thgVhIj"
      },
      "execution_count": 3,
      "outputs": []
    },
    {
      "cell_type": "code",
      "source": [
        "def exturl(url):\n",
        "    response = res.get(url)\n",
        "    if response.status_code != 200:\n",
        "        return None\n",
        "    soup = bs(response.content, 'html.parser')\n",
        "\n",
        "    National = soup.find_all(\"p\", class_ = \"title large mb-2\")\n",
        "    Related = soup.find_all(\"p\", class_ = \"title small\")\n",
        "    Date = soup.find_all(\"p\", class_ = \"date-wrapper medium\")\n",
        "\n",
        "    National_News = []\n",
        "    Related_News = []\n",
        "    News_Date = []\n",
        "\n",
        "    for headline in National:\n",
        "        National_News.append(headline.text)\n",
        "\n",
        "    for headline in Related:\n",
        "        Related_News.append(headline.text)\n",
        "\n",
        "    for date in Date:\n",
        "        News_Date.append(date.text)\n",
        "\n",
        "    if len(National_News) == 1:\n",
        "        National_News.extend([''] * (len(Related_News) - 1))\n",
        "\n",
        "    if len(News_Date) == 1:\n",
        "        News_Date = [News_Date[0]] * len(Related_News)\n",
        "\n",
        "    df = pd.DataFrame({\"National_News\": National_News[:len(Related_News)], \"Related_News\": Related_News, \"News_Date\": News_Date[:len(Related_News)]})\n",
        "\n",
        "    df.to_csv('News.csv', index=False)\n",
        "\n",
        "    return {\"National_News\": National_News[:len(Related_News)], \"Related_News\": Related_News, \"News_Date\": News_Date[:len(Related_News)]}\n"
      ],
      "metadata": {
        "id": "NwJFozlP5c0J"
      },
      "execution_count": 35,
      "outputs": []
    },
    {
      "cell_type": "code",
      "source": [
        "Curr_Date = 'https://www.maharashtrasamachar.com/national/?page=1'"
      ],
      "metadata": {
        "id": "Kjs3Bi48KSbB"
      },
      "execution_count": 36,
      "outputs": []
    },
    {
      "cell_type": "code",
      "source": [
        "exturl(Curr_Date)"
      ],
      "metadata": {
        "id": "6SipdFU4STWb"
      },
      "execution_count": null,
      "outputs": []
    },
    {
      "cell_type": "code",
      "source": [
        "# https://www.maharashtrasamachar.com/national/?page=1\n",
        "# national\n",
        "# business\n",
        "# world\n",
        "# sports\n",
        "# entertainment\n",
        "# lifestyle"
      ],
      "metadata": {
        "id": "4FcwkU6IbQgB"
      },
      "execution_count": null,
      "outputs": []
    }
  ]
}